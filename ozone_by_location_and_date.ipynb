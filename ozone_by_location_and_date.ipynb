{
 "cells": [
  {
   "cell_type": "code",
   "execution_count": null,
   "metadata": {},
   "outputs": [],
   "source": [
    "#############################################################################################################\n",
    "## Estimate monthly ozone values based on X,Y point and date information (month)\n",
    "## Coded specifically towards data being provided by researcher, MK\n",
    "## Can easily be adapted to other input data. Changes would probably be need to made to the date logic\n",
    "## \n",
    "## Currently configured to run cell-by-cell in a Notebook. Should be configured properly with functions and main"
   ]
  },
  {
   "cell_type": "code",
   "execution_count": null,
   "metadata": {},
   "outputs": [],
   "source": [
    "import arcpy, os\n",
    "arcpy.env.workspace = r'in_memory'\n",
    "arcpy.env.overwriteOutput = True"
   ]
  },
  {
   "cell_type": "code",
   "execution_count": null,
   "metadata": {},
   "outputs": [],
   "source": [
    "path = os.path.abspath(sys.path[0])\n",
    "## Monthly Total Ozone Means data was pulled from woudc.org and joined to the station points to create this layer\n",
    "monthly_ozone_points = path + r'\\Data.gdb\\MonthlyTotalOzone_Points'\n",
    "\n",
    "## Extent representing the area of research. This is to limit the processing time for raster creation.\n",
    "## Should be replaced with a project-specific extent. \n",
    "extent = path + r'\\Data.gdb\\Extent'\n",
    "\n",
    "## Data Inputs\n",
    "observations_layer = input(\"Enter Observation Feature Class (Full Path): \")\n",
    "output_layer_location = input(\"Enter Directory Location for Output Feature Class (FGDB Required): \")\n",
    "\n",
    "## Local Variables\n",
    "count = 0\n",
    "results = []\n",
    "kriging_result = None\n",
    "kriging_error = \"\"\n",
    "proc_layer = None"
   ]
  },
  {
   "cell_type": "code",
   "execution_count": null,
   "metadata": {},
   "outputs": [],
   "source": [
    "print(observations_layer)\n",
    "observations = arcpy.CopyFeatures_management(observations_layer, \"observations\")"
   ]
  },
  {
   "cell_type": "code",
   "execution_count": null,
   "metadata": {},
   "outputs": [],
   "source": [
    "observations = arcpy.CopyFeatures_management(observations_layer, \"observations\")\n",
    "obs_fields = [field.name for field in arcpy.ListFields(observations)]\n",
    "\n",
    "arcpy.env.outputCoordinateSystem = arcpy.Describe(observations_layer).spatialReference\n",
    "\n",
    "desc = arcpy.Describe(extent)\n",
    "\n",
    "xmin = desc.extent.XMin\n",
    "xmax = desc.extent.XMax\n",
    "ymin = desc.extent.YMin\n",
    "ymax = desc.extent.YMax\n",
    "\n",
    "# print (xmin, ymin, xmax, ymax)\n",
    "\n",
    "arcpy.env.Extent = arcpy.Extent(xmin, ymin, xmax, ymax)"
   ]
  },
  {
   "cell_type": "code",
   "execution_count": null,
   "metadata": {},
   "outputs": [],
   "source": [
    "monthLookup = {'January':'Jan','February':'Feb','March':'Mar','April':'Apr','May':'May','June':'Jun','July':'Jul','August':'Aug','September':'Sep','October':'Oct','November':'Nov','December':'Dec',}"
   ]
  },
  {
   "cell_type": "code",
   "execution_count": null,
   "metadata": {
    "scrolled": false
   },
   "outputs": [],
   "source": [
    "count = 0\n",
    "\n",
    "## Loop through observations that contain location data (Lat/Lon) in date order\n",
    "# for row in arcpy.da.SearchCursor(observations, where_clause=\"lat is not NULL\", field_names = obs_fields, sql_clause=(None, 'ORDER BY Year_, ID')):    \n",
    "for row in arcpy.da.SearchCursor(observations, where_clause=\"lat is not NULL and ID in ('M177','M17')\", field_names = obs_fields, sql_clause=(None, 'ORDER BY Year_, ID')):\n",
    "\n",
    "    count += 1\n",
    "## Select row (observation) and copy to in_memory layer\n",
    "    where = \"ID = '\" + row[obs_fields.index('ID')] + \"'\"\n",
    "    observation_layer = arcpy.management.SelectLayerByAttribute(observations, \"NEW_SELECTION\", where, None)    \n",
    "    observation = arcpy.CopyFeatures_management(observation_layer, \"observation\"+str(count))\n",
    "    month = monthLookup[row[obs_fields.index('Month_')].strip()]\n",
    "    month_field = 'MonthlyTotalOzone_'+month\n",
    "    year = row[obs_fields.index('Year_')]\n",
    "## Select Ozone stations with data for observation Month/Year    \n",
    "    where = \"MonthlyTotalOzone_Year = \" + str(year) + ' AND MonthlyTotalOzone_' + month + ' > 0'\n",
    "    print(row[obs_fields.index('ID')], where)\n",
    "    selection = arcpy.management.SelectLayerByAttribute(monthly_ozone_points, \"NEW_SELECTION\", where, None)\n",
    "    \n",
    "    station_count = int(arcpy.GetCount_management(selection).getOutput(0))\n",
    "    update_fields = ['StationCount','FromRaster']\n",
    "    update_vals = [station_count]\n",
    "## If there are stations with data, do process    \n",
    "    if station_count > 0:\n",
    "        arcpy.Near_analysis(in_features=observation, near_features=selection, search_radius=\"\", location=\"NO_LOCATION\", angle=\"NO_ANGLE\", method=\"GEODESIC\")\n",
    "## If Kriging runs successfully, get value from Kriging result\n",
    "        try:\n",
    "            kriging_result = arcpy.gp.Kriging_sa(selection, month_field, \"Kriging_Result\" + str(count), \"Spherical 0.689984\", \"0.689984375\", \"VARIABLE 30\", \"\")\n",
    "            update_vals.append(1)\n",
    "            raster_list = [[kriging_result, \"average_uv\"]]\n",
    "            arcpy.gp.ExtractMultiValuesToPoints_sa(observation, raster_list, \"BILINEAR\")   \n",
    "## If Kriging fails, assume too few station points, and populate with value from nearest station            \n",
    "        except Exception as err:\n",
    "            kriging_error = str(err)\n",
    "            kriging_result = False\n",
    "            update_vals.append(0)\n",
    "            near_fid = [row[0] for row in arcpy.da.SearchCursor(observation, field_names=['NEAR_FID'])][0]\n",
    "            avg_uv = [row[0] for row in arcpy.da.SearchCursor(monthly_ozone_points, field_names=[month_field], where_clause='OBJECTID='+str(near_fid))][0]\n",
    "            arcpy.AddField_management(observation,'average_uv', \"SINGLE\")\n",
    "            update_fields.append('average_uv')\n",
    "            update_vals.append(avg_uv)\n",
    "    else:\n",
    "        arcpy.AddField_management(observation,'NEAR_FID', \"INTEGER\")\n",
    "        arcpy.AddField_management(observation,'NEAR_DIST', \"DOUBLE\")        \n",
    "        arcpy.AddField_management(observation,'average_uv', \"SINGLE\")\n",
    "        update_vals.append(0)\n",
    "        update_fields.append('NEAR_FID')  \n",
    "        update_fields.append('NEAR_DIST')         \n",
    "        update_fields.append('average_uv')   \n",
    "        update_vals.append(0)\n",
    "        update_vals.append(0)\n",
    "        update_vals.append(0)\n",
    "\n",
    "## Update observation with station_count and from_raster values. More if any failures.\n",
    "    with arcpy.da.UpdateCursor(observation, field_names=update_fields) as update:\n",
    "        for row in update:\n",
    "            for i in range(len(update_fields)):\n",
    "                row[i] = update_vals[i]\n",
    "                update.updateRow(row) \n",
    "\n",
    "## On first run, create/overwrite proc_layer\n",
    "    if count == 1:\n",
    "        proc_layer = arcpy.CreateFeatureclass_management(\"in_memory\", \"proc_layer\", template=observation)\n",
    "        print(\"Create proc_layer\")\n",
    "\n",
    "## Append observation to proc_layer        \n",
    "    arcpy.Append_management(observation, proc_layer)\n",
    "## Delete current observation layer to free up space\n",
    "    arcpy.Delete_management(observation)\n"
   ]
  },
  {
   "cell_type": "code",
   "execution_count": null,
   "metadata": {},
   "outputs": [],
   "source": [
    "## Copy in_memory proc_layer to proc_layer in output directory\n",
    "arcpy.CopyFeatures_management(proc_layer, output_layer_location + \"proc_layer\")"
   ]
  }
 ],
 "metadata": {
  "kernelspec": {
   "display_name": "Python 3",
   "language": "python",
   "name": "python3"
  },
  "language_info": {
   "codemirror_mode": {
    "name": "ipython",
    "version": 3
   },
   "file_extension": ".py",
   "mimetype": "text/x-python",
   "name": "python",
   "nbconvert_exporter": "python",
   "pygments_lexer": "ipython3",
   "version": "3.6.6"
  }
 },
 "nbformat": 4,
 "nbformat_minor": 2
}
